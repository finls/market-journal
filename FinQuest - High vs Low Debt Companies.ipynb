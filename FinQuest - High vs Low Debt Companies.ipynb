{
 "cells": [
  {
   "cell_type": "code",
   "execution_count": 1,
   "metadata": {},
   "outputs": [],
   "source": [
    "import pandas as pd\n",
    "import numpy as np"
   ]
  },
  {
   "cell_type": "code",
   "execution_count": 2,
   "metadata": {},
   "outputs": [],
   "source": [
    "df = pd.read_csv(r'finviz_3_22_2020.csv')"
   ]
  },
  {
   "cell_type": "code",
   "execution_count": 3,
   "metadata": {},
   "outputs": [
    {
     "data": {
      "text/plain": [
       "Index(['No.', 'Ticker', 'Company', 'Sector', 'Industry', 'Country',\n",
       "       'Market Cap', 'P/E', 'Forward P/E', 'PEG', 'P/S', 'P/B', 'P/Cash',\n",
       "       'P/Free Cash Flow', 'Dividend Yield', 'Payout Ratio', 'EPS (ttm)',\n",
       "       'EPS growth this year', 'EPS growth next year',\n",
       "       'EPS growth past 5 years', 'EPS growth next 5 years',\n",
       "       'Sales growth past 5 years', 'EPS growth quarter over quarter',\n",
       "       'Sales growth quarter over quarter', 'Shares Outstanding',\n",
       "       'Shares Float', 'Insider Ownership', 'Insider Transactions',\n",
       "       'Institutional Ownership', 'Institutional Transactions', 'Float Short',\n",
       "       'Short Ratio', 'Return on Assets', 'Return on Equity',\n",
       "       'Return on Investment', 'Current Ratio', 'Quick Ratio',\n",
       "       'LT Debt/Equity', 'Total Debt/Equity', 'Gross Margin',\n",
       "       'Operating Margin', 'Profit Margin', 'Performance (Week)',\n",
       "       'Performance (Month)', 'Performance (Quarter)',\n",
       "       'Performance (Half Year)', 'Performance (Year)', 'Performance (YTD)',\n",
       "       'Beta', 'Average True Range', 'Volatility (Week)', 'Volatility (Month)',\n",
       "       '20-Day Simple Moving Average', '50-Day Simple Moving Average',\n",
       "       '200-Day Simple Moving Average', '50-Day High', '50-Day Low',\n",
       "       '52-Week High', '52-Week Low', 'Relative Strength Index (14)',\n",
       "       'Change from Open', 'Gap', 'Analyst Recom', 'Average Volume',\n",
       "       'Relative Volume', 'Price', 'Change', 'Volume', 'Earnings Date',\n",
       "       'Target Price', 'IPO Date'],\n",
       "      dtype='object')"
      ]
     },
     "execution_count": 3,
     "metadata": {},
     "output_type": "execute_result"
    }
   ],
   "source": [
    "df.columns"
   ]
  },
  {
   "cell_type": "code",
   "execution_count": 4,
   "metadata": {},
   "outputs": [
    {
     "data": {
      "text/plain": [
       "(7744, 71)"
      ]
     },
     "execution_count": 4,
     "metadata": {},
     "output_type": "execute_result"
    }
   ],
   "source": [
    "df.shape"
   ]
  },
  {
   "cell_type": "markdown",
   "metadata": {},
   "source": [
    "# Step 1: State the Null & Alternative Hypotheses"
   ]
  },
  {
   "cell_type": "markdown",
   "metadata": {},
   "source": [
    "### High debted company year to date returns equal low debted company year to date returns"
   ]
  },
  {
   "cell_type": "markdown",
   "metadata": {},
   "source": [
    "$$H_0: \\mu_1-\\mu_2=0$$"
   ]
  },
  {
   "cell_type": "markdown",
   "metadata": {},
   "source": [
    "### High debted company year to date returns do not equal low debted company year to date returns"
   ]
  },
  {
   "cell_type": "markdown",
   "metadata": {},
   "source": [
    "$$H_a: \\mu_1-\\mu_2\\neq0$$"
   ]
  },
  {
   "cell_type": "markdown",
   "metadata": {},
   "source": [
    "# Step 2: Identify the Test Statistic & Probability Distribution"
   ]
  },
  {
   "cell_type": "markdown",
   "metadata": {},
   "source": [
    "$$t = \\frac{(\\bar{x_1} - \\bar{x_2})- (\\mu_1 - \\mu_2)}{(\\frac{s_1^2}{n_1}+\\frac{s_2^2}{n_2})^\\frac{1}{2}}$$"
   ]
  },
  {
   "cell_type": "markdown",
   "metadata": {},
   "source": [
    "$$s_p^2 = \\frac{(n_1-1)s_1^2+(n_2-1)s_2^2}{n_1+n_2-2}$$"
   ]
  },
  {
   "cell_type": "code",
   "execution_count": 5,
   "metadata": {},
   "outputs": [
    {
     "data": {
      "text/plain": [
       "(584, 71)"
      ]
     },
     "execution_count": 5,
     "metadata": {},
     "output_type": "execute_result"
    }
   ],
   "source": [
    "df[(df['Total Debt/Equity'] >= 1) & (df['Sector'] != 'Financial') & (df['Price'] >= 5)].shape"
   ]
  },
  {
   "cell_type": "code",
   "execution_count": 6,
   "metadata": {},
   "outputs": [
    {
     "data": {
      "text/plain": [
       "(1584, 71)"
      ]
     },
     "execution_count": 6,
     "metadata": {},
     "output_type": "execute_result"
    }
   ],
   "source": [
    "df[(df['Total Debt/Equity'] < 1) & (df['Sector'] != 'Financial') & (df['Price'] >= 5)].shape"
   ]
  },
  {
   "cell_type": "code",
   "execution_count": 7,
   "metadata": {},
   "outputs": [
    {
     "data": {
      "text/plain": [
       "2166"
      ]
     },
     "execution_count": 7,
     "metadata": {},
     "output_type": "execute_result"
    }
   ],
   "source": [
    "n_1 = 584\n",
    "n_2 = 1584\n",
    "dof = n_1 + n_2 -2\n",
    "dof"
   ]
  },
  {
   "cell_type": "markdown",
   "metadata": {},
   "source": [
    "# Step 3: Specify the Decision Rule"
   ]
  },
  {
   "cell_type": "code",
   "execution_count": 8,
   "metadata": {},
   "outputs": [
    {
     "data": {
      "text/plain": [
       "1.9610598178123775"
      ]
     },
     "execution_count": 8,
     "metadata": {},
     "output_type": "execute_result"
    }
   ],
   "source": [
    "from scipy import stats \n",
    "stats.t.isf(0.025, dof)"
   ]
  },
  {
   "cell_type": "markdown",
   "metadata": {},
   "source": [
    "# Step 4: Now Collect Data & Calculate Test Statistic"
   ]
  },
  {
   "cell_type": "code",
   "execution_count": 9,
   "metadata": {},
   "outputs": [],
   "source": [
    "df['YTD'] = df['Performance (YTD)'].apply(lambda x: float(str(x).strip('%'))/100)"
   ]
  },
  {
   "cell_type": "code",
   "execution_count": 10,
   "metadata": {},
   "outputs": [
    {
     "data": {
      "text/plain": [
       "0      -0.3630\n",
       "1      -0.5317\n",
       "2      -0.3375\n",
       "3      -0.2596\n",
       "4      -0.4071\n",
       "         ...  \n",
       "7739   -0.4947\n",
       "7740   -0.1756\n",
       "7741   -0.3636\n",
       "7742   -0.4540\n",
       "7743   -0.6379\n",
       "Name: YTD, Length: 7744, dtype: float64"
      ]
     },
     "execution_count": 10,
     "metadata": {},
     "output_type": "execute_result"
    }
   ],
   "source": [
    "df['YTD']"
   ]
  },
  {
   "cell_type": "code",
   "execution_count": 11,
   "metadata": {},
   "outputs": [],
   "source": [
    "high_debt_df = df[(df['Total Debt/Equity'] >= 1) & (df['Sector'] != 'Financial') & (df['Price'] >= 5)]"
   ]
  },
  {
   "cell_type": "code",
   "execution_count": 12,
   "metadata": {},
   "outputs": [],
   "source": [
    "low_debt_df = df[(df['Total Debt/Equity'] < 1) & (df['Sector'] != 'Financial') & (df['Price'] >= 5)]"
   ]
  },
  {
   "cell_type": "code",
   "execution_count": 13,
   "metadata": {},
   "outputs": [
    {
     "data": {
      "text/plain": [
       "5      -0.2368\n",
       "6      -0.3372\n",
       "13     -0.2394\n",
       "14      0.4395\n",
       "17     -0.2456\n",
       "         ...  \n",
       "7720   -0.3107\n",
       "7726   -0.1743\n",
       "7727   -0.1542\n",
       "7730   -0.4580\n",
       "7731   -0.3889\n",
       "Name: YTD, Length: 584, dtype: float64"
      ]
     },
     "execution_count": 13,
     "metadata": {},
     "output_type": "execute_result"
    }
   ],
   "source": [
    "high_debt_df['YTD']"
   ]
  },
  {
   "cell_type": "code",
   "execution_count": 14,
   "metadata": {},
   "outputs": [
    {
     "data": {
      "text/plain": [
       "0      -0.3630\n",
       "2      -0.3375\n",
       "3      -0.2596\n",
       "4      -0.4071\n",
       "7      -0.1928\n",
       "         ...  \n",
       "7716   -0.1157\n",
       "7717   -0.1706\n",
       "7719   -0.5510\n",
       "7721   -0.4959\n",
       "7728   -0.5002\n",
       "Name: YTD, Length: 1584, dtype: float64"
      ]
     },
     "execution_count": 14,
     "metadata": {},
     "output_type": "execute_result"
    }
   ],
   "source": [
    "low_debt_df['YTD']"
   ]
  },
  {
   "cell_type": "code",
   "execution_count": 15,
   "metadata": {},
   "outputs": [
    {
     "data": {
      "text/plain": [
       "<matplotlib.axes._subplots.AxesSubplot at 0x7f4b038c0110>"
      ]
     },
     "execution_count": 15,
     "metadata": {},
     "output_type": "execute_result"
    },
    {
     "data": {
      "image/png": "[encoded data removed]",
      "text/plain": [
       "<Figure size 432x288 with 1 Axes>"
      ]
     },
     "metadata": {
      "needs_background": "light"
     },
     "output_type": "display_data"
    }
   ],
   "source": [
    "high_debt_df['YTD'].hist(bins=100)"
   ]
  },
  {
   "cell_type": "code",
   "execution_count": 16,
   "metadata": {},
   "outputs": [
    {
     "data": {
      "text/plain": [
       "<matplotlib.axes._subplots.AxesSubplot at 0x7f4ad46799d0>"
      ]
     },
     "execution_count": 16,
     "metadata": {},
     "output_type": "execute_result"
    },
    {
     "data": {
      "image/png": "[encoded data removed]",
      "text/plain": [
       "<Figure size 432x288 with 1 Axes>"
      ]
     },
     "metadata": {
      "needs_background": "light"
     },
     "output_type": "display_data"
    }
   ],
   "source": [
    "low_debt_df['YTD'].hist(bins=100)"
   ]
  },
  {
   "cell_type": "code",
   "execution_count": 17,
   "metadata": {},
   "outputs": [
    {
     "data": {
      "text/plain": [
       "-0.3845806506849315"
      ]
     },
     "execution_count": 17,
     "metadata": {},
     "output_type": "execute_result"
    }
   ],
   "source": [
    "x_1 = high_debt_df['YTD'].mean()\n",
    "x_1"
   ]
  },
  {
   "cell_type": "code",
   "execution_count": 18,
   "metadata": {},
   "outputs": [
    {
     "data": {
      "text/plain": [
       "-0.30446755050505053"
      ]
     },
     "execution_count": 18,
     "metadata": {},
     "output_type": "execute_result"
    }
   ],
   "source": [
    "x_2 = low_debt_df['YTD'].mean()\n",
    "x_2"
   ]
  },
  {
   "cell_type": "code",
   "execution_count": 19,
   "metadata": {},
   "outputs": [
    {
     "data": {
      "text/plain": [
       "0.04726763226647126"
      ]
     },
     "execution_count": 19,
     "metadata": {},
     "output_type": "execute_result"
    }
   ],
   "source": [
    "s_1 = high_debt_df['YTD'].var()\n",
    "s_1"
   ]
  },
  {
   "cell_type": "code",
   "execution_count": 20,
   "metadata": {},
   "outputs": [
    {
     "data": {
      "text/plain": [
       "0.2826447459962704"
      ]
     },
     "execution_count": 20,
     "metadata": {},
     "output_type": "execute_result"
    }
   ],
   "source": [
    "s_2 = low_debt_df['YTD'].var()\n",
    "s_2"
   ]
  },
  {
   "cell_type": "code",
   "execution_count": 22,
   "metadata": {},
   "outputs": [
    {
     "data": {
      "text/plain": [
       "Ttest_indResult(statistic=-4.974385351535249, pvalue=7.065404495761367e-07)"
      ]
     },
     "execution_count": 22,
     "metadata": {},
     "output_type": "execute_result"
    }
   ],
   "source": [
    "stats.ttest_ind(high_debt_df['YTD'], low_debt_df['YTD'], equal_var=False, nan_policy='omit')"
   ]
  },
  {
   "cell_type": "code",
   "execution_count": null,
   "metadata": {},
   "outputs": [],
   "source": []
  },
  {
   "cell_type": "code",
   "execution_count": null,
   "metadata": {},
   "outputs": [],
   "source": []
  }
 ],
 "metadata": {
  "kernelspec": {
   "display_name": "Python 3",
   "language": "python",
   "name": "python3"
  },
  "language_info": {
   "codemirror_mode": {
    "name": "ipython",
    "version": 3
   },
   "file_extension": ".py",
   "mimetype": "text/x-python",
   "name": "python",
   "nbconvert_exporter": "python",
   "pygments_lexer": "ipython3",
   "version": "3.7.4"
  }
 },
 "nbformat": 4,
 "nbformat_minor": 4
}
